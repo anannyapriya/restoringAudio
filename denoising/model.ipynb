{
 "cells": [
  {
   "cell_type": "code",
   "execution_count": 28,
   "metadata": {},
   "outputs": [
    {
     "name": "stderr",
     "output_type": "stream",
     "text": [
      "WARNING:absl:Compiled the loaded model, but the compiled metrics have yet to be built. `model.compile_metrics` will be empty until you train or evaluate the model.\n"
     ]
    },
    {
     "name": "stdout",
     "output_type": "stream",
     "text": [
      "\u001b[1m1/1\u001b[0m \u001b[32m━━━━━━━━━━━━━━━━━━━━\u001b[0m\u001b[37m\u001b[0m \u001b[1m3s\u001b[0m 3s/step\n",
      "Denoised audio saved to result/denoised_output.wav\n"
     ]
    }
   ],
   "source": [
    "import os\n",
    "import numpy as np\n",
    "import librosa\n",
    "import soundfile as sf\n",
    "from keras.models import load_model\n",
    "from keras import backend as K\n",
    "\n",
    "# Define the custom MSE loss function (if applicable)\n",
    "def custom_mse(y_true, y_pred):\n",
    "    return K.mean(K.square(y_true - y_pred))\n",
    "\n",
    "# Load your trained model with custom objects if necessary\n",
    "model = load_model('denoising_model.h5', custom_objects={'mse': custom_mse})\n",
    "\n",
    "# Function to load a WAV file and preprocess it\n",
    "def load_wav_file(file_path):\n",
    "    # Load the noisy audio file\n",
    "    noisy_audio, sample_rate = librosa.load(file_path, sr=None)\n",
    "    return noisy_audio, sample_rate\n",
    "\n",
    "# Function to process the audio and predict denoised output\n",
    "def denoise_audio(model, noisy_audio):\n",
    "    # Reshape the input for the model (if necessary)\n",
    "    noisy_audio_input = noisy_audio.reshape(1, -1, 1)  # Adjust dimensions as required by your model\n",
    "    # Predict the denoised audio\n",
    "    denoised_audio = model.predict(noisy_audio_input)\n",
    "    return denoised_audio.flatten()  # Return as a 1D array\n",
    "\n",
    "# Function to save the denoised audio to a WAV file\n",
    "def save_wav_file(output_path, audio_data, sample_rate):\n",
    "    sf.write(output_path, audio_data, sample_rate)\n",
    "\n",
    "# Main code execution\n",
    "if __name__ == \"__main__\":\n",
    "    noisy_file_path = '../Dataset/train/train-noisy/Aimee Norwich - Child.stem.wav'  # Specify the path to your noisy WAV file\n",
    "    output_file_path = 'result/denoised_output.wav'  # Specify the output path for the denoised audio\n",
    "\n",
    "    # Ensure output directory exists\n",
    "    os.makedirs(os.path.dirname(output_file_path), exist_ok=True)\n",
    "\n",
    "    try:\n",
    "        # Load the noisy audio file\n",
    "        noisy_audio, sample_rate = load_wav_file(noisy_file_path)\n",
    "        \n",
    "        # Denoise the audio\n",
    "        denoised_audio = denoise_audio(model, noisy_audio)\n",
    "\n",
    "        # Save the denoised audio\n",
    "        save_wav_file(output_file_path, denoised_audio, sample_rate)\n",
    "\n",
    "        print(f\"Denoised audio saved to {output_file_path}\")\n",
    "    except Exception as e:\n",
    "        print(f\"An error occurred: {e}\")\n"
   ]
  }
 ],
 "metadata": {
  "kernelspec": {
   "display_name": "venv",
   "language": "python",
   "name": "python3"
  },
  "language_info": {
   "codemirror_mode": {
    "name": "ipython",
    "version": 3
   },
   "file_extension": ".py",
   "mimetype": "text/x-python",
   "name": "python",
   "nbconvert_exporter": "python",
   "pygments_lexer": "ipython3",
   "version": "3.12.7"
  }
 },
 "nbformat": 4,
 "nbformat_minor": 2
}
